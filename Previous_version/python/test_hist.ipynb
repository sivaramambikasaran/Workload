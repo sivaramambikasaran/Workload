{
 "cells": [
  {
   "cell_type": "code",
   "execution_count": 2,
   "metadata": {},
   "outputs": [],
   "source": [
    "import pandas as pd\n",
    "import os"
   ]
  },
  {
   "cell_type": "code",
   "execution_count": 4,
   "metadata": {},
   "outputs": [
    {
     "name": "stdout",
     "output_type": "stream",
     "text": [
      "workload_1.csv\n",
      "workload_3.csv\n",
      "workload_2.csv\n",
      "['workload_2.csv', 'workload_3.csv']\n"
     ]
    }
   ],
   "source": [
    "data_path = \"/Users/kandappanva/Documents/GitHub/Workload/data\"\n",
    "\n",
    "# to store files in a list\n",
    "files_list = []\n",
    "\n",
    "# dirs=directories\n",
    "for (root, dirs, file) in os.walk(data_path):\n",
    "    for f in file:\n",
    "        if 'workload' in f:\n",
    "            files_list.append(f)\n",
    "            print(f)\n",
    "files_list = sorted(files_list)[-2:]\n",
    "print(files_list)\n"
   ]
  },
  {
   "cell_type": "code",
   "execution_count": null,
   "metadata": {},
   "outputs": [],
   "source": []
  }
 ],
 "metadata": {
  "kernelspec": {
   "display_name": "Python 3",
   "language": "python",
   "name": "python3"
  },
  "language_info": {
   "codemirror_mode": {
    "name": "ipython",
    "version": 3
   },
   "file_extension": ".py",
   "mimetype": "text/x-python",
   "name": "python",
   "nbconvert_exporter": "python",
   "pygments_lexer": "ipython3",
   "version": "3.7.4"
  },
  "orig_nbformat": 4
 },
 "nbformat": 4,
 "nbformat_minor": 2
}
